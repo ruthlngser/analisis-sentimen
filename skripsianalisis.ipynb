{
  "nbformat": 4,
  "nbformat_minor": 0,
  "metadata": {
    "colab": {
      "provenance": []
    },
    "kernelspec": {
      "name": "python3",
      "display_name": "Python 3"
    },
    "language_info": {
      "name": "python"
    }
  },
  "cells": [
    {
      "cell_type": "code",
      "execution_count": null,
      "metadata": {
        "colab": {
          "base_uri": "https://localhost:8080/"
        },
        "id": "4a3-RnSr9wVN",
        "outputId": "666418fe-ad54-4c2b-b0ff-837496f03c3f"
      },
      "outputs": [
        {
          "output_type": "stream",
          "name": "stdout",
          "text": [
            "Mounted at /content/drive\n"
          ]
        }
      ],
      "source": [
        "from google.colab import drive\n",
        "\n",
        "# Mount Google Drive\n",
        "drive.mount('/content/drive')"
      ]
    },
    {
      "cell_type": "code",
      "source": [
        "import pandas as pd\n",
        "\n",
        "# Membaca data dari file CSV\n",
        "df = pd.read_csv('/content/drive/MyDrive/Skripsi_Analisis_Sentimen/PelantikanPrabowoGibran.csv', sep=';')"
      ],
      "metadata": {
        "id": "fg1LPKud-Rl6"
      },
      "execution_count": null,
      "outputs": []
    },
    {
      "cell_type": "code",
      "source": [
        "#-----CASE FOLDING-----#\n",
        "import pandas as pd\n",
        "\n",
        "df['Case Folding'] = df['sentimen'].str.lower()\n",
        "print('Hasil Case Folding : \\n')\n",
        "print(df['Case Folding'])"
      ],
      "metadata": {
        "colab": {
          "base_uri": "https://localhost:8080/"
        },
        "id": "EGFD_eLF-Xvs",
        "outputId": "cc2b8ec4-128e-4203-a026-146580e758ab"
      },
      "execution_count": null,
      "outputs": [
        {
          "output_type": "stream",
          "name": "stdout",
          "text": [
            "Hasil Case Folding : \n",
            "\n",
            "0       ini nama-nama menteri presiden ke-8 ri prabowo...\n",
            "1       hari pertama retreat kabinet prabowo ajarkan k...\n",
            "2       selamat atas pelantikan presiden republik indo...\n",
            "3       setelah resmi dilantik sebagai presiden ke-8 r...\n",
            "4       menjalankan prabowonomics hari ini prabowo sub...\n",
            "                              ...                        \n",
            "4995    @info_beragam setuju banget cuy prabowo-gibran...\n",
            "4996    setuju juga fren prabowo-gibran kerjafokus yak...\n",
            "4997    @info_beragam sepakat temans dgn persatuan pra...\n",
            "4998    bener banget bro prabowo-gibran kerjafokus yak...\n",
            "4999    @info_beragam dengan masyarakat kokoh prabowo-...\n",
            "Name: Case Folding, Length: 5000, dtype: object\n"
          ]
        }
      ]
    },
    {
      "cell_type": "code",
      "source": [
        "#------TOKENIZING------#\n",
        "import nltk\n",
        "from nltk.tokenize import word_tokenize\n",
        "nltk.download('punkt_tab')\n",
        "\n",
        "df['Tokenizing'] = df['Case Folding'].apply(word_tokenize)\n",
        "print('Hasil Tokenizing : \\n')\n",
        "print(df['Tokenizing'])"
      ],
      "metadata": {
        "colab": {
          "base_uri": "https://localhost:8080/"
        },
        "id": "abrT9hg0DLZ7",
        "outputId": "5ba193d4-d4c2-43f3-e36f-84196ac46cb7"
      },
      "execution_count": null,
      "outputs": [
        {
          "output_type": "stream",
          "name": "stderr",
          "text": [
            "[nltk_data] Downloading package punkt_tab to /root/nltk_data...\n",
            "[nltk_data]   Package punkt_tab is already up-to-date!\n"
          ]
        },
        {
          "output_type": "stream",
          "name": "stdout",
          "text": [
            "Hasil Tokenizing : \n",
            "\n",
            "0       [ini, nama-nama, menteri, presiden, ke-8, ri, ...\n",
            "1       [hari, pertama, retreat, kabinet, prabowo, aja...\n",
            "2       [selamat, atas, pelantikan, presiden, republik...\n",
            "3       [setelah, resmi, dilantik, sebagai, presiden, ...\n",
            "4       [menjalankan, prabowonomics, hari, ini, prabow...\n",
            "                              ...                        \n",
            "4995    [@, info_beragam, setuju, banget, cuy, prabowo...\n",
            "4996    [setuju, juga, fren, prabowo-gibran, kerjafoku...\n",
            "4997    [@, info_beragam, sepakat, temans, dgn, persat...\n",
            "4998    [bener, banget, bro, prabowo-gibran, kerjafoku...\n",
            "4999    [@, info_beragam, dengan, masyarakat, kokoh, p...\n",
            "Name: Tokenizing, Length: 5000, dtype: object\n"
          ]
        }
      ]
    },
    {
      "cell_type": "code",
      "source": [
        "pip install Sastrawi"
      ],
      "metadata": {
        "colab": {
          "base_uri": "https://localhost:8080/"
        },
        "id": "oZJN6utYH2ne",
        "outputId": "d56413c9-c424-4cc7-d0cd-e50224f543a9"
      },
      "execution_count": null,
      "outputs": [
        {
          "output_type": "stream",
          "name": "stdout",
          "text": [
            "Collecting Sastrawi\n",
            "  Downloading Sastrawi-1.0.1-py2.py3-none-any.whl.metadata (909 bytes)\n",
            "Downloading Sastrawi-1.0.1-py2.py3-none-any.whl (209 kB)\n",
            "\u001b[?25l   \u001b[90m━━━━━━━━━━━━━━━━━━━━━━━━━━━━━━━━━━━━━━━━\u001b[0m \u001b[32m0.0/209.7 kB\u001b[0m \u001b[31m?\u001b[0m eta \u001b[36m-:--:--\u001b[0m\r\u001b[2K   \u001b[91m━━━━━━━━━━━━━━━━━━━━━━━━━━━━━\u001b[0m\u001b[90m╺\u001b[0m\u001b[90m━━━━━━━━━━\u001b[0m \u001b[32m153.6/209.7 kB\u001b[0m \u001b[31m4.4 MB/s\u001b[0m eta \u001b[36m0:00:01\u001b[0m\r\u001b[2K   \u001b[90m━━━━━━━━━━━━━━━━━━━━━━━━━━━━━━━━━━━━━━━━\u001b[0m \u001b[32m209.7/209.7 kB\u001b[0m \u001b[31m3.9 MB/s\u001b[0m eta \u001b[36m0:00:00\u001b[0m\n",
            "\u001b[?25hInstalling collected packages: Sastrawi\n",
            "Successfully installed Sastrawi-1.0.1\n"
          ]
        }
      ]
    },
    {
      "cell_type": "code",
      "source": [
        "import nltk\n",
        "from nltk.tokenize import word_tokenize\n",
        "nltk.download('punkt')\n",
        "import string\n",
        "from Sastrawi.StopWordRemover.StopWordRemoverFactory import StopWordRemoverFactory\n",
        "\n",
        "def filter_tokens(tokens):\n",
        "  \"\"\"\n",
        "  Fungsi untuk melakukan filtering pada tokens.\n",
        "\n",
        "  Args:\n",
        "    tokens: List of tokens.\n",
        "\n",
        "  Returns:\n",
        "    List of filtered tokens.\n",
        "  \"\"\"\n",
        "  # 1. Menghapus Stop Words menggunakan Sastrawi\n",
        "  factory = StopWordRemoverFactory()\n",
        "  stopword = factory.create_stop_word_remover()\n",
        "  filtered_tokens = [w for w in tokens if not stopword.remove(w) == '']\n",
        "\n",
        "  # 2. Menghapus Tanda Baca dan Karakter Khusus\n",
        "  filtered_tokens = [w for w in filtered_tokens if w not in string.punctuation]\n",
        "  filtered_tokens = [w for w in filtered_tokens if w.isalnum()]  # Hanya menyimpan token alfanumerik\n",
        "\n",
        "  return filtered_tokens\n",
        "\n",
        "# Contoh penggunaan pada DataFrame:\n",
        "df['Filtered_Tokens'] = df['Tokenizing'].apply(filter_tokens)\n",
        "print('Hasil Filtering: \\n')\n",
        "print(df['Filtered_Tokens'])"
      ],
      "metadata": {
        "colab": {
          "base_uri": "https://localhost:8080/"
        },
        "id": "XVWbJa9dH2eV",
        "outputId": "df2058eb-3aa6-40cd-962c-09aa7b33203d"
      },
      "execution_count": null,
      "outputs": [
        {
          "output_type": "stream",
          "name": "stderr",
          "text": [
            "[nltk_data] Downloading package punkt to /root/nltk_data...\n",
            "[nltk_data]   Unzipping tokenizers/punkt.zip.\n"
          ]
        },
        {
          "output_type": "stream",
          "name": "stdout",
          "text": [
            "Hasil Filtering: \n",
            "\n",
            "0       [menteri, presiden, ri, prabowo, subianto, pra...\n",
            "1       [hari, pertama, retreat, kabinet, prabowo, aja...\n",
            "2       [selamat, atas, pelantikan, presiden, republik...\n",
            "3       [resmi, dilantik, presiden, ri, minggu, prabow...\n",
            "4       [menjalankan, prabowonomics, hari, prabowo, su...\n",
            "                              ...                        \n",
            "4995    [setuju, banget, cuy, kerjafokus, percaya, per...\n",
            "4996    [setuju, fren, kerjafokus, yakin, kekmopakan, ...\n",
            "4997    [sepakat, temans, dgn, persatuan, kerjafokus, ...\n",
            "4998    [bener, banget, bro, kerjafokus, yakin, kebers...\n",
            "4999    [masyarakat, kokoh, kerjafokus, yakin, nkri, m...\n",
            "Name: Filtered_Tokens, Length: 5000, dtype: object\n"
          ]
        }
      ]
    },
    {
      "cell_type": "code",
      "source": [
        "#------FILTERING-----#\n",
        "import nltk\n",
        "from nltk.corpus import stopwords\n",
        "nltk.download('stopwords')\n",
        "nltk.download('punkt')\n",
        "import string\n",
        "\n",
        "def filter_tokens(tokens):\n",
        "  \"\"\"\n",
        "  Fungsi untuk melakukan filtering pada tokens.\n",
        "\n",
        "  Args:\n",
        "    tokens: List of tokens.\n",
        "\n",
        "  Returns:\n",
        "    List of filtered tokens.\n",
        "  \"\"\"\n",
        "  # 1. Menghapus Stop Words\n",
        "  stop_words = set(stopwords.words('indonesian'))  # Ganti 'indonesian' dengan bahasa yang sesuai\n",
        "  filtered_tokens = [w for w in tokens if not w.lower() in stop_words]\n",
        "\n",
        "  # 2. Menghapus Tanda Baca dan Karakter Khusus\n",
        "  filtered_tokens = [w for w in filtered_tokens if w not in string.punctuation]\n",
        "  filtered_tokens = [w for w in filtered_tokens if w.isalnum()]  # Hanya menyimpan token alfanumerik\n",
        "\n",
        "  return filtered_tokens\n",
        "\n",
        "# Contoh penggunaan pada DataFrame:\n",
        "df['Filtered_Tokens'] = df['Tokenizing'].apply(filter_tokens)\n",
        "print(df['Filtered_Tokens'])"
      ],
      "metadata": {
        "colab": {
          "base_uri": "https://localhost:8080/"
        },
        "id": "X7L0L9TEEaFj",
        "outputId": "ba1e4e97-5758-465d-f3e7-bf9368e67e45"
      },
      "execution_count": null,
      "outputs": [
        {
          "output_type": "stream",
          "name": "stderr",
          "text": [
            "[nltk_data] Downloading package stopwords to /root/nltk_data...\n",
            "[nltk_data]   Unzipping corpora/stopwords.zip.\n",
            "[nltk_data] Downloading package punkt to /root/nltk_data...\n",
            "[nltk_data]   Package punkt is already up-to-date!\n"
          ]
        },
        {
          "output_type": "stream",
          "name": "stdout",
          "text": [
            "0       [menteri, presiden, ri, prabowo, subianto, pra...\n",
            "1       [retreat, kabinet, prabowo, ajarkan, kedisipli...\n",
            "2       [selamat, pelantikan, presiden, republik, indo...\n",
            "3       [resmi, dilantik, presiden, ri, minggu, prabow...\n",
            "4       [menjalankan, prabowonomics, prabowo, subianto...\n",
            "                              ...                        \n",
            "4995    [setuju, banget, cuy, kerjafokus, percaya, per...\n",
            "4996    [setuju, fren, kerjafokus, kekmopakan, memperk...\n",
            "4997    [sepakat, temans, dgn, persatuan, kerjafokus, ...\n",
            "4998    [bener, banget, bro, kerjafokus, kebersamaan, ...\n",
            "4999    [masyarakat, kokoh, kerjafokus, nkri, memperku...\n",
            "Name: Filtered_Tokens, Length: 5000, dtype: object\n"
          ]
        }
      ]
    },
    {
      "cell_type": "code",
      "source": [
        "#------NORMALISASI------#\n",
        "def normalize_tokens(tokens):\n",
        "  \"\"\"\n",
        "  Fungsi untuk melakukan normalisasi pada tokens.\n",
        "\n",
        "  Args:\n",
        "    tokens: List of tokens.\n",
        "\n",
        "  Returns:\n",
        "    List of normalized tokens.\n",
        "  \"\"\"\n",
        "  kamus_normalisasi = {\n",
        "      'nggak': 'tidak',\n",
        "    'gpp': 'tidak apa-apa',\n",
        "    'bgt': 'amat',\n",
        "    'gak': 'tidak',\n",
        "    'gw': 'saya',\n",
        "    'mrk': 'mereka',\n",
        "    'yg': 'yang',\n",
        "    'udah': 'sudah',\n",
        "    'utk': 'untuk',\n",
        "    'aja': 'saja',\n",
        "    'napa': 'kenapa',\n",
        "    'pake': 'pakai',\n",
        "    'anjrot':'anjing',\n",
        "    'jgn' : 'jangan',\n",
        "    'ttg' : 'tentang',\n",
        "    'sngat' : 'sangat',\n",
        "    'akhu' : 'aku',\n",
        "    'lakuin' : 'lakukan',\n",
        "    'kaga' : 'tidak',\n",
        "    'gua' : 'saya',\n",
        "    'bgst' : 'bangsat',\n",
        "    'udh' : 'sudah',\n",
        "    'sbg' : 'sebagai',\n",
        "    'nie' : 'ini',\n",
        "    'gada' : 'tidak ada',\n",
        "    'janlup'  : 'jangan lupa',\n",
        "    'smua' : 'semua',\n",
        "    'kalo' :'kalau',\n",
        "    'bnr' : 'benar',\n",
        "    'kayak' : 'seperti',\n",
        "    'tw'  : 'tahu',\n",
        "    'gmn': 'bagaimana',\n",
        "    'doang': 'saja',\n",
        "    'cuman' :'cuma',\n",
        "    'plis': 'tolong',\n",
        "    'gausah': 'tidah perlu',\n",
        "    'tp': 'tapi',\n",
        "    'ga' : 'tidak',\n",
        "      'prcy': 'percaya',\n",
        "      'krn': 'karena',\n",
        "      'lu' : 'kamu',\n",
        "      'gausah': 'tidah perlu',\n",
        "      'tp': 'tapi',\n",
        "      'ga' : 'tidak',\n",
        "      'sm': 'dengan',\n",
        "      'kalo': 'kalau',\n",
        "      'makasih' :'terimakasih',\n",
        "      'sma': 'dengan',\n",
        "      'dek': 'adik',\n",
        "      'fufufafa' : 'fufufafa',\n",
        "      'gapapa':'tidak apa apa',\n",
        "      'gamau':'tidak mau',\n",
        "      'jg':'juga',\n",
        "      'dikit':'sedikit',\n",
        "      'gaada': 'tidak ada',\n",
        "      'lbih': 'lebih',\n",
        "      'bener':'benar',\n",
        "      'cakapan': 'cakap',\n",
        "      'gmn': 'bagaimana',\n",
        "      'rame': 'ramai',\n",
        "      'anjir': 'anjing',\n",
        "      'elek': 'jelek',\n",
        "      'kabeh': 'semua',\n",
        "      'banget': 'sekali',\n",
        "      'dgn': 'dengan',\n",
        "      'ri': 'republik indonesia',\n",
        "      'kekmopakan': 'kompak',\n",
        "      'fren': 'kawan',\n",
        "      'beneran': 'benar',\n",
        "      'slalu':'selalu',\n",
        "      'fuck':'bangsat',\n",
        "      'maen':'main',\n",
        "      'jd':'jadi',\n",
        "      'sdh':'sudah',\n",
        "      'dlu':'dulu',\n",
        "      'kpd':'kepada',\n",
        "      'emang':'memang',\n",
        "      'belom':'belum',\n",
        "      'sob':'sobat',\n",
        "      'gk': 'tidak',\n",
        "      'nnti':'nanti',\n",
        "\n",
        "\n",
        "  }\n",
        "\n",
        "  # Normalisasi dengan kamus\n",
        "  normalized_tokens = [kamus_normalisasi.get(token, token) for token in tokens]\n",
        "  return normalized_tokens\n",
        "\n",
        "# Contoh penggunaan pada DataFrame:\n",
        "df['Normalized_Tokens'] = df['Filtered_Tokens'].apply(normalize_tokens)\n",
        "print('Hasil Normalisasi: \\n')\n",
        "print(df['Normalized_Tokens'])"
      ],
      "metadata": {
        "colab": {
          "base_uri": "https://localhost:8080/"
        },
        "id": "J6bDiIik_Usl",
        "outputId": "978ca325-8f8a-4147-93bf-3b920a1ea501"
      },
      "execution_count": null,
      "outputs": [
        {
          "output_type": "stream",
          "name": "stdout",
          "text": [
            "Hasil Normalisasi: \n",
            "\n",
            "0       [menteri, presiden, republik indonesia, prabow...\n",
            "1       [retreat, kabinet, prabowo, ajarkan, kedisipli...\n",
            "2       [selamat, pelantikan, presiden, republik, indo...\n",
            "3       [resmi, dilantik, presiden, republik indonesia...\n",
            "4       [menjalankan, prabowonomics, prabowo, subianto...\n",
            "                              ...                        \n",
            "4995    [setuju, sekali, cuy, kerjafokus, percaya, per...\n",
            "4996    [setuju, kawan, kerjafokus, kompak, memperkoko...\n",
            "4997    [sepakat, temans, dengan, persatuan, kerjafoku...\n",
            "4998    [benar, sekali, bro, kerjafokus, kebersamaan, ...\n",
            "4999    [masyarakat, kokoh, kerjafokus, nkri, memperku...\n",
            "Name: Normalized_Tokens, Length: 5000, dtype: object\n"
          ]
        }
      ]
    },
    {
      "cell_type": "code",
      "source": [
        "from Sastrawi.Stemmer.StemmerFactory import StemmerFactory\n",
        "\n",
        "def stem_tokens(tokens):\n",
        "  \"\"\"\n",
        "  Fungsi untuk melakukan stemming pada tokens.\n",
        "\n",
        "  Args:\n",
        "    tokens: List of tokens.\n",
        "\n",
        "  Returns:\n",
        "    List of stemmed tokens.\n",
        "  \"\"\"\n",
        "  factory = StemmerFactory()\n",
        "  stemmer = factory.create_stemmer()\n",
        "\n",
        "  stemmed_tokens = [stemmer.stem(token) for token in tokens]\n",
        "  return stemmed_tokens\n",
        "\n",
        "# Contoh penggunaan pada DataFrame:\n",
        "df['Stemmed_Tokens'] = df['Normalized_Tokens'].apply(stem_tokens)\n",
        "print('Hasil Stemming: \\n')\n",
        "print(df['Stemmed_Tokens'])"
      ],
      "metadata": {
        "colab": {
          "base_uri": "https://localhost:8080/"
        },
        "id": "lwyAwQcGK1DT",
        "outputId": "f7886f2e-11ab-45fc-8b68-1f3091808c30"
      },
      "execution_count": null,
      "outputs": [
        {
          "output_type": "stream",
          "name": "stdout",
          "text": [
            "Hasil Stemming: \n",
            "\n",
            "0       [menteri, presiden, republik indonesia, prabow...\n",
            "1       [retreat, kabinet, prabowo, ajar, disiplin, ha...\n",
            "2       [selamat, lantik, presiden, republik, indonesi...\n",
            "3       [resmi, lantik, presiden, republik indonesia, ...\n",
            "4       [jalan, prabowonomics, prabowo, subianto, lant...\n",
            "                              ...                        \n",
            "4995    [tuju, sekali, cuy, kerjafokus, percaya, satu,...\n",
            "4996    [tuju, kawan, kerjafokus, kompak, kokoh, ekono...\n",
            "4997    [sepakat, temans, dengan, satu, kerjafokus, hi...\n",
            "4998    [benar, sekali, bro, kerjafokus, sama, tangguh...\n",
            "4999    [masyarakat, kokoh, kerjafokus, nkri, kuat, ku...\n",
            "Name: Stemmed_Tokens, Length: 5000, dtype: object\n"
          ]
        }
      ]
    },
    {
      "cell_type": "code",
      "source": [
        "# Kamus sentimen (lexicon)\n",
        "\n",
        "def labeling_data(tokens):\n",
        "    \"\"\"\n",
        "    Fungsi untuk melakukan pelabelan data berdasarkan lexicon.\n",
        "\n",
        "    Args:\n",
        "        tokens: List of tokens (misalnya, dari kolom 'Stemmed_Tokens').\n",
        "\n",
        "    Returns:\n",
        "        Label sentimen (1 untuk positif, 0 untuk negatif, 2 untuk netral).\n",
        "    \"\"\"\n",
        "    positive_words = ['baik', 'bagus', 'senang','percaya','hebat','selamat','betul','yakin','benar','jujur','terima', 'setuju','amanah','dukung','salut','pantas','berhasil','layak','oke','efektif','sukses','keren','sepakat','suka', 'positif']\n",
        "    negative_words = ['buruk', 'tidak', 'fufufafa','parah','jelek','rusak', 'kecewa','lemes','bohong','sedih', 'sebal','tolak','kesal','benci','bodoh','gila','hancur','batal','gagal','kosong', 'negatif']\n",
        "\n",
        "    # Labeling\n",
        "    if any(word in tokens for word in positive_words): # iterasi pada tokens\n",
        "        return 1  # Positif\n",
        "    elif any(word in tokens for word in negative_words): # iterasi pada tokens\n",
        "        return 0  # Negatif\n",
        "    else:\n",
        "        return 2  # Netral\n",
        "\n",
        "\n",
        "\n",
        "# Menerapkan pelabelan pada DataFrame\n",
        "df['Label'] = df['Stemmed_Tokens'].apply(labeling_data)\n",
        "\n",
        "# Menampilkan hasil\n",
        "print('Hasil Labeling:')\n",
        "print(df[['sentimen', 'Label']])\n",
        "# Menampilkan jumlah data pada tiap kategori label\n",
        "label_counts = df['Label'].value_counts()\n",
        "print('\\nJumlah Data pada Tiap Kategori Label:')\n",
        "print(label_counts)"
      ],
      "metadata": {
        "colab": {
          "base_uri": "https://localhost:8080/"
        },
        "id": "6_V7fgpjht7P",
        "outputId": "816c2a8a-1dd3-425e-bf8f-10cffafdfcf8"
      },
      "execution_count": null,
      "outputs": [
        {
          "output_type": "stream",
          "name": "stdout",
          "text": [
            "Hasil Labeling:\n",
            "                                               sentimen  Label\n",
            "0     Ini nama-nama menteri Presiden ke-8 RI Prabowo...      2\n",
            "1     Hari Pertama Retreat Kabinet Prabowo Ajarkan K...      2\n",
            "2     SELAMAT ATAS PELANTIKAN PRESIDEN REPUBLIK INDO...      1\n",
            "3     Setelah resmi dilantik sebagai Presiden ke-8 R...      2\n",
            "4     Menjalankan Prabowonomics Hari ini Prabowo Sub...      2\n",
            "...                                                 ...    ...\n",
            "4995  @info_beragam Setuju banget cuy PRABOWO-GIBRAN...      1\n",
            "4996  Setuju juga fren PRABOWO-GIBRAN KerjaFOKUS yak...      2\n",
            "4997  @info_beragam Sepakat temans dgn persatuan PRA...      1\n",
            "4998  Bener banget bro PRABOWO-GIBRAN KerjaFOKUS yak...      1\n",
            "4999  @info_beragam Dengan masyarakat kokoh PRABOWO-...      2\n",
            "\n",
            "[5000 rows x 2 columns]\n",
            "\n",
            "Jumlah Data pada Tiap Kategori Label:\n",
            "Label\n",
            "2    2934\n",
            "1    1708\n",
            "0     358\n",
            "Name: count, dtype: int64\n"
          ]
        }
      ]
    },
    {
      "cell_type": "code",
      "source": [
        "import matplotlib.pyplot as plt\n",
        "\n",
        "# Menghitung jumlah data untuk setiap sentimen\n",
        "sentiment_counts = df['Label'].value_counts()  # Perbaikan: 'Label' bukan 'label'\n",
        "\n",
        "# Label untuk diagram\n",
        "labels = sentiment_counts.index.tolist()\n",
        "label_mapping = {0: 'Negatif', 1: 'Positif', 2: 'Netral'}\n",
        "labels = [label_mapping[label] for label in labels]\n",
        "\n",
        "# Membuat subplot untuk diagram batang dan lingkaran\n",
        "fig, (ax1, ax2) = plt.subplots(1, 2, figsize=(12, 5))  # 1 baris, 2 kolom\n",
        "\n",
        "# Diagram Batang\n",
        "ax1.bar(labels, sentiment_counts, color=['red', 'green', 'blue'])\n",
        "ax1.set_title('Distribusi Sentimen (Diagram Batang)')\n",
        "ax1.set_xlabel('Sentimen')\n",
        "ax1.set_ylabel('Jumlah Data')\n",
        "\n",
        "# Diagram Lingkaran\n",
        "ax2.pie(sentiment_counts, labels=labels, autopct='%1.1f%%', startangle=90, colors=['red', 'green', 'blue'])\n",
        "ax2.set_title('Distribusi Sentimen (Diagram Lingkaran)')\n",
        "ax2.axis('equal')  # Membuat lingkaran proporsional\n",
        "\n",
        "# Menampilkan diagram\n",
        "plt.show()"
      ],
      "metadata": {
        "colab": {
          "base_uri": "https://localhost:8080/",
          "height": 487
        },
        "id": "KScASUsng4hq",
        "outputId": "bae10cdd-6efc-49ce-8751-d1774d75d5a7"
      },
      "execution_count": null,
      "outputs": [
        {
          "output_type": "display_data",
          "data": {
            "text/plain": [
              "<Figure size 1200x500 with 2 Axes>"
            ],
            "image/png": "[encoded data removed]"
          },
          "metadata": {}
        }
      ]
    },
    {
      "cell_type": "code",
      "source": [
        "#------ EKSTRAKSI FITUR (CountVectorizer) ------#\n",
        "from sklearn.feature_extraction.text import CountVectorizer\n",
        "\n",
        "vectorizer = CountVectorizer()\n",
        "corpus = [' '.join(tokens) for tokens in df['Stemmed_Tokens']]\n",
        "tfidf_df = vectorizer.fit_transform(corpus)"
      ],
      "metadata": {
        "id": "sxt-qS2DPSkv"
      },
      "execution_count": null,
      "outputs": []
    },
    {
      "cell_type": "code",
      "source": [
        "from sklearn.model_selection import train_test_split\n",
        "\n",
        "# Memisahkan fitur (X) dan label (y)\n",
        "X = tfidf_df  # Fitur adalah DataFrame TF-IDF\n",
        "y = df['Label']  # Label adalah kolom 'Label' di DataFrame asli\n",
        "\n",
        "# Membagi data menjadi data latih dan data uji\n",
        "X_train, X_test, y_train, y_test = train_test_split(X, y, test_size=0.3, random_state=42)\n",
        "\n",
        "# Menampilkan ukuran data latih dan data uji\n",
        "print(\"Ukuran data latih:\", X_train.shape, y_train.shape)\n",
        "print(\"Ukuran data uji:\", X_test.shape, y_test.shape)"
      ],
      "metadata": {
        "colab": {
          "base_uri": "https://localhost:8080/"
        },
        "id": "P66i7gCG73e9",
        "outputId": "9e3b5881-c64f-4570-e079-84fdc19f47d9"
      },
      "execution_count": null,
      "outputs": [
        {
          "output_type": "stream",
          "name": "stdout",
          "text": [
            "Ukuran data latih: (3500, 6746) (3500,)\n",
            "Ukuran data uji: (1500, 6746) (1500,)\n"
          ]
        }
      ]
    },
    {
      "cell_type": "code",
      "source": [
        "# Jumlah data untuk tiap kategori pada data latih\n",
        "print(\"Jumlah Data pada Data Latih:\")\n",
        "print(y_train.value_counts())  # Gunakan y_train untuk label data latih\n",
        "total_train = len(y_train)  # Menghitung total data latih\n",
        "print(f\"Total Data Latih: {total_train}\\n\")\n",
        "\n",
        "# Jumlah data untuk tiap kategori pada data uji\n",
        "print(\"Jumlah Data pada Data Uji:\")\n",
        "print(y_test.value_counts())  # Gunakan y_test untuk label data uji\n",
        "total_test = len(y_test)  # Menghitung total data uji\n",
        "print(f\"Total Data Uji: {total_test}\\n\")\n",
        "\n",
        "# Total keseluruhan data\n",
        "total_data = total_train + total_test\n",
        "print(f\"Total Keseluruhan Data: {total_data}\")"
      ],
      "metadata": {
        "colab": {
          "base_uri": "https://localhost:8080/"
        },
        "id": "MwJuZfjJ9SlZ",
        "outputId": "932c6b00-a2ca-4985-a6a1-b0616566519a"
      },
      "execution_count": null,
      "outputs": [
        {
          "output_type": "stream",
          "name": "stdout",
          "text": [
            "Jumlah Data pada Data Latih:\n",
            "Label\n",
            "2    2043\n",
            "1    1202\n",
            "0     255\n",
            "Name: count, dtype: int64\n",
            "Total Data Latih: 3500\n",
            "\n",
            "Jumlah Data pada Data Uji:\n",
            "Label\n",
            "2    891\n",
            "1    506\n",
            "0    103\n",
            "Name: count, dtype: int64\n",
            "Total Data Uji: 1500\n",
            "\n",
            "Total Keseluruhan Data: 5000\n"
          ]
        }
      ]
    },
    {
      "cell_type": "code",
      "source": [
        "from sklearn.naive_bayes import MultinomialNB\n",
        "from sklearn.metrics import accuracy_score\n",
        "\n",
        "# Inisialisasi model Multinomial Naive Bayes\n",
        "model = MultinomialNB()\n",
        "\n",
        "# Melatih model menggunakan data latih\n",
        "model.fit(X_train, y_train)\n",
        "\n",
        "# Melakukan prediksi pada data uji\n",
        "y_pred = model.predict(X_test)\n",
        "\n",
        "# Evaluasi performa model (misalnya, menggunakan accuracy)\n",
        "accuracy = accuracy_score(y_test, y_pred)\n",
        "print(\"Accuracy:\", accuracy)"
      ],
      "metadata": {
        "colab": {
          "base_uri": "https://localhost:8080/"
        },
        "id": "6Ead-7v6964J",
        "outputId": "5ea570bb-ca4d-401b-bd79-9a2a99b0a393"
      },
      "execution_count": null,
      "outputs": [
        {
          "output_type": "stream",
          "name": "stdout",
          "text": [
            "Accuracy: 0.824\n"
          ]
        }
      ]
    },
    {
      "cell_type": "code",
      "source": [
        "from sklearn.metrics import confusion_matrix, classification_report\n",
        "import seaborn as sns\n",
        "import matplotlib.pyplot as plt\n",
        "\n",
        "# Menghitung confusion matrix\n",
        "cm = confusion_matrix(y_test, y_pred)\n",
        "\n",
        "# Membuat heatmap dari confusion matrix\n",
        "plt.figure(figsize=(8, 6))\n",
        "sns.heatmap(cm, annot=True, fmt=\"d\", cmap=\"Wistia\",\n",
        "            xticklabels=['Negatif', 'Positif', 'Netral'],\n",
        "            yticklabels=['Negatif', 'Positif', 'Netral'])\n",
        "plt.title(\"Confusion Matrix\")\n",
        "plt.xlabel(\"Prediksi\")\n",
        "plt.ylabel(\"Aktual\")\n",
        "plt.show()\n",
        "\n",
        "# Menampilkan classification report\n",
        "print(classification_report(y_test, y_pred, target_names=['Negatif', 'Positif', 'Netral']))"
      ],
      "metadata": {
        "colab": {
          "base_uri": "https://localhost:8080/",
          "height": 738
        },
        "outputId": "b58e391d-29ca-4c4c-a40d-7b12daa469dd",
        "id": "X9YgYMEiALVD"
      },
      "execution_count": null,
      "outputs": [
        {
          "output_type": "display_data",
          "data": {
            "text/plain": [
              "<Figure size 800x600 with 2 Axes>"
            ],
            "image/png": "[encoded data removed]"
          },
          "metadata": {}
        },
        {
          "output_type": "stream",
          "name": "stdout",
          "text": [
            "              precision    recall  f1-score   support\n",
            "\n",
            "     Negatif       0.46      0.76      0.57       103\n",
            "     Positif       0.77      0.91      0.84       506\n",
            "      Netral       0.95      0.78      0.86       891\n",
            "\n",
            "    accuracy                           0.82      1500\n",
            "   macro avg       0.73      0.82      0.76      1500\n",
            "weighted avg       0.86      0.82      0.83      1500\n",
            "\n"
          ]
        }
      ]
    },
    {
      "cell_type": "code",
      "source": [
        "# Melakukan prediksi pada data uji\n",
        "y_pred = model.predict(X_test)\n",
        "\n",
        "# Menampilkan hasil prediksi\n",
        "print(\"Hasil Prediksi:\")\n",
        "print(y_pred)\n",
        "\n",
        "# Menampilkan label aktual untuk perbandingan (opsional)\n",
        "print(\"\\nLabel Aktual:\")\n",
        "print(y_test.values)"
      ],
      "metadata": {
        "colab": {
          "base_uri": "https://localhost:8080/"
        },
        "id": "yUAwxpb_YjNm",
        "outputId": "b6bd68c1-1fc6-4322-c996-955a3c363a36"
      },
      "execution_count": null,
      "outputs": [
        {
          "output_type": "stream",
          "name": "stdout",
          "text": [
            "Hasil Prediksi:\n",
            "[2 2 2 ... 2 2 0]\n",
            "\n",
            "Label Aktual:\n",
            "[2 1 2 ... 2 2 0]\n"
          ]
        }
      ]
    },
    {
      "cell_type": "code",
      "source": [
        "import pandas as pd\n",
        "from sklearn.metrics import confusion_matrix\n",
        "\n",
        "# Tampilkan tabel prediksi kelas\n",
        "cm_df = pd.DataFrame(cm, index=['Aktual Negatif', 'Aktual Positif', 'Aktual Netral'],\n",
        "                     columns=['Prediksi Negatif', 'Prediksi Positif', 'Prediksi Netral'])\n",
        "print(cm_df)"
      ],
      "metadata": {
        "colab": {
          "base_uri": "https://localhost:8080/"
        },
        "id": "O8pO-GvaYr4Q",
        "outputId": "ce585815-cd9d-4fbf-ee5f-d26657513c8e"
      },
      "execution_count": null,
      "outputs": [
        {
          "output_type": "stream",
          "name": "stdout",
          "text": [
            "                Prediksi Negatif  Prediksi Positif  Prediksi Netral\n",
            "Aktual Negatif                78                11               14\n",
            "Aktual Positif                22               462               22\n",
            "Aktual Netral                 69               126              696\n"
          ]
        }
      ]
    },
    {
      "cell_type": "code",
      "source": [
        "from sklearn.metrics import classification_report\n",
        "report = classification_report(y_test, y_pred, target_names=['Negatif', 'Positif', 'Netral'])\n",
        "\n",
        "print(report)"
      ],
      "metadata": {
        "colab": {
          "base_uri": "https://localhost:8080/"
        },
        "id": "ilDs2hlJY-BN",
        "outputId": "30aa74e5-4a3f-4ab7-cd93-291882d1c90a"
      },
      "execution_count": null,
      "outputs": [
        {
          "output_type": "stream",
          "name": "stdout",
          "text": [
            "              precision    recall  f1-score   support\n",
            "\n",
            "     Negatif       0.46      0.76      0.57       103\n",
            "     Positif       0.77      0.91      0.84       506\n",
            "      Netral       0.95      0.78      0.86       891\n",
            "\n",
            "    accuracy                           0.82      1500\n",
            "   macro avg       0.73      0.82      0.76      1500\n",
            "weighted avg       0.86      0.82      0.83      1500\n",
            "\n"
          ]
        }
      ]
    },
    {
      "cell_type": "code",
      "source": [
        "import pandas as pd\n",
        "\n",
        "# Asumsikan kamu telah menyimpan akurasi dari beberapa percobaan pada model Multinomial Naive Bayes\n",
        "# Contoh data akurasi\n",
        "akurasi_data = {\n",
        "    'Percobaan': ['Percobaan 1', 'Percobaan 2', 'Percobaan 3'],\n",
        "    'Akurasi': [0.85, 0.88, 0.82]  # Ganti dengan akurasi yang didapatkan\n",
        "}\n",
        "\n",
        "# Membuat DataFrame dari data akurasi\n",
        "df_akurasi = pd.DataFrame(akurasi_data)\n",
        "\n",
        "# Mengubah akurasi menjadi persentase\n",
        "df_akurasi['Akurasi (%)'] = df_akurasi['Akurasi'] * 100\n",
        "\n",
        "# Menampilkan tabel perbandingan akurasi dalam bentuk persentase\n",
        "print(df_akurasi[['Percobaan', 'Akurasi (%)']])"
      ],
      "metadata": {
        "colab": {
          "base_uri": "https://localhost:8080/"
        },
        "id": "iSAILQyYujXp",
        "outputId": "82b1c329-02b9-444b-9f08-3e55269134e4"
      },
      "execution_count": null,
      "outputs": [
        {
          "output_type": "stream",
          "name": "stdout",
          "text": [
            "     Percobaan  Akurasi (%)\n",
            "0  Percobaan 1         85.0\n",
            "1  Percobaan 2         88.0\n",
            "2  Percobaan 3         82.0\n"
          ]
        }
      ]
    },
    {
      "cell_type": "code",
      "source": [
        "import pandas as pd\n",
        "\n",
        "# Data akurasi (ganti dengan data Anda)\n",
        "data_akurasi = {\n",
        "    'Percobaan': ['Percobaan 1', 'Percobaan 2', 'Percobaan 3'],\n",
        "    'Akurasi': [0.85, 0.88, 0.82],\n",
        "    'Precision': [0.80, 0.85, 0.78],\n",
        "    'Recall': [0.82, 0.87, 0.80],\n",
        "    'F1-Score': [0.81, 0.86, 0.79]\n",
        "}\n",
        "\n",
        "# Membuat DataFrame\n",
        "df_akurasi = pd.DataFrame(data_akurasi)\n",
        "\n",
        "# Mengubah akurasi, precision, recall, dan F1-Score menjadi persentase\n",
        "for kolom in ['Akurasi', 'Precision', 'Recall', 'F1-Score']:\n",
        "    df_akurasi[kolom + ' (%)'] = df_akurasi[kolom] * 100\n",
        "\n",
        "# Menampilkan tabel\n",
        "print(df_akurasi[['Percobaan', 'Akurasi (%)', 'Precision (%)', 'Recall (%)', 'F1-Score (%)']])"
      ],
      "metadata": {
        "id": "vPFfgQHuu9VC",
        "outputId": "bf31d83e-7793-41c4-e498-a102499885dc",
        "colab": {
          "base_uri": "https://localhost:8080/"
        }
      },
      "execution_count": null,
      "outputs": [
        {
          "output_type": "stream",
          "name": "stdout",
          "text": [
            "     Percobaan  Akurasi (%)  Precision (%)  Recall (%)  F1-Score (%)\n",
            "0  Percobaan 1         85.0           80.0        82.0          81.0\n",
            "1  Percobaan 2         88.0           85.0        87.0          86.0\n",
            "2  Percobaan 3         82.0           78.0        80.0          79.0\n"
          ]
        }
      ]
    },
    {
      "cell_type": "code",
      "source": [
        "import pickle\n",
        "\n",
        "# Simpan model\n",
        "with open('skripsianalisis.pkl', 'wb') as f:\n",
        "    pickle.dump(model, f)\n",
        "# Simpan vectorizer\n",
        "with open('vectorizer.pkl', 'wb') as f:\n",
        "    pickle.dump(vectorizer, f)\n"
      ],
      "metadata": {
        "id": "GPd3H3-Saonb"
      },
      "execution_count": null,
      "outputs": []
    },
    {
      "cell_type": "code",
      "source": [
        "from google.colab import files\n",
        "\n",
        "# Mengunduh file model_sentimen.pkl\n",
        "files.download(\"skripsianalisis.pkl\")\n",
        "\n",
        "# Mengunduh file vectorizer.pkl jika diperlukan\n",
        "files.download(\"vectorizer.pkl\")\n"
      ],
      "metadata": {
        "colab": {
          "base_uri": "https://localhost:8080/",
          "height": 17
        },
        "id": "k3J-PLoEa7oQ",
        "outputId": "ea65eec6-a190-4cca-ebd7-258b4b3c27dc"
      },
      "execution_count": null,
      "outputs": [
        {
          "output_type": "display_data",
          "data": {
            "text/plain": [
              "<IPython.core.display.Javascript object>"
            ],
            "application/javascript": [
              "\n",
              "    async function download(id, filename, size) {\n",
              "      if (!google.colab.kernel.accessAllowed) {\n",
              "        return;\n",
              "      }\n",
              "      const div = document.createElement('div');\n",
              "      const label = document.createElement('label');\n",
              "      label.textContent = `Downloading \"${filename}\": `;\n",
              "      div.appendChild(label);\n",
              "      const progress = document.createElement('progress');\n",
              "      progress.max = size;\n",
              "      div.appendChild(progress);\n",
              "      document.body.appendChild(div);\n",
              "\n",
              "      const buffers = [];\n",
              "      let downloaded = 0;\n",
              "\n",
              "      const channel = await google.colab.kernel.comms.open(id);\n",
              "      // Send a message to notify the kernel that we're ready.\n",
              "      channel.send({})\n",
              "\n",
              "      for await (const message of channel.messages) {\n",
              "        // Send a message to notify the kernel that we're ready.\n",
              "        channel.send({})\n",
              "        if (message.buffers) {\n",
              "          for (const buffer of message.buffers) {\n",
              "            buffers.push(buffer);\n",
              "            downloaded += buffer.byteLength;\n",
              "            progress.value = downloaded;\n",
              "          }\n",
              "        }\n",
              "      }\n",
              "      const blob = new Blob(buffers, {type: 'application/binary'});\n",
              "      const a = document.createElement('a');\n",
              "      a.href = window.URL.createObjectURL(blob);\n",
              "      a.download = filename;\n",
              "      div.appendChild(a);\n",
              "      a.click();\n",
              "      div.remove();\n",
              "    }\n",
              "  "
            ]
          },
          "metadata": {}
        },
        {
          "output_type": "display_data",
          "data": {
            "text/plain": [
              "<IPython.core.display.Javascript object>"
            ],
            "application/javascript": [
              "download(\"download_5faa3f8c-66c7-419c-9156-7a3cf4ac1a21\", \"skripsianalisis.pkl\", 324448)"
            ]
          },
          "metadata": {}
        },
        {
          "output_type": "display_data",
          "data": {
            "text/plain": [
              "<IPython.core.display.Javascript object>"
            ],
            "application/javascript": [
              "\n",
              "    async function download(id, filename, size) {\n",
              "      if (!google.colab.kernel.accessAllowed) {\n",
              "        return;\n",
              "      }\n",
              "      const div = document.createElement('div');\n",
              "      const label = document.createElement('label');\n",
              "      label.textContent = `Downloading \"${filename}\": `;\n",
              "      div.appendChild(label);\n",
              "      const progress = document.createElement('progress');\n",
              "      progress.max = size;\n",
              "      div.appendChild(progress);\n",
              "      document.body.appendChild(div);\n",
              "\n",
              "      const buffers = [];\n",
              "      let downloaded = 0;\n",
              "\n",
              "      const channel = await google.colab.kernel.comms.open(id);\n",
              "      // Send a message to notify the kernel that we're ready.\n",
              "      channel.send({})\n",
              "\n",
              "      for await (const message of channel.messages) {\n",
              "        // Send a message to notify the kernel that we're ready.\n",
              "        channel.send({})\n",
              "        if (message.buffers) {\n",
              "          for (const buffer of message.buffers) {\n",
              "            buffers.push(buffer);\n",
              "            downloaded += buffer.byteLength;\n",
              "            progress.value = downloaded;\n",
              "          }\n",
              "        }\n",
              "      }\n",
              "      const blob = new Blob(buffers, {type: 'application/binary'});\n",
              "      const a = document.createElement('a');\n",
              "      a.href = window.URL.createObjectURL(blob);\n",
              "      a.download = filename;\n",
              "      div.appendChild(a);\n",
              "      a.click();\n",
              "      div.remove();\n",
              "    }\n",
              "  "
            ]
          },
          "metadata": {}
        },
        {
          "output_type": "display_data",
          "data": {
            "text/plain": [
              "<IPython.core.display.Javascript object>"
            ],
            "application/javascript": [
              "download(\"download_89f04e40-72dd-4714-b2db-77a7976244a6\", \"vectorizer.pkl\", 85615)"
            ]
          },
          "metadata": {}
        }
      ]
    }
  ]
}